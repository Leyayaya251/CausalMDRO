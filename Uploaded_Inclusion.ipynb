{
 "cells": [
  {
   "cell_type": "code",
   "execution_count": 1,
   "id": "011f84a5-d96f-44b0-bbd4-7913f62d31be",
   "metadata": {},
   "outputs": [],
   "source": [
    "import pandas as pd\n",
    "import re\n",
    "import numpy as np\n",
    "import dill\n",
    "\n",
    "from tqdm import tqdm\n",
    "from collections import defaultdict, Counter\n",
    "\n",
    "import warnings\n",
    "\n",
    "warnings.filterwarnings(\"ignore\")"
   ]
  },
  {
   "cell_type": "markdown",
   "id": "505767c8-b556-43cb-9e4c-5543d318b257",
   "metadata": {},
   "source": [
    "## MIMIC IV"
   ]
  },
  {
   "cell_type": "code",
   "execution_count": 2,
   "id": "a29bc9b8-86e2-47ce-8041-27f3213e7397",
   "metadata": {},
   "outputs": [],
   "source": [
    "PATIENTS = pd.read_csv('mimiciv/3.1/hosp/PATIENTS.csv.gz')\n",
    "ADMISSIONS = pd.read_csv('mimiciv/3.1/hosp/ADMISSIONS.csv.gz')\n",
    "ICUSTAYS = pd.read_csv('mimiciv/3.1/icu/ICUSTAYS.csv.gz')\n",
    "\n",
    "ADMISSIONS.columns = ADMISSIONS.columns.str.upper()\n",
    "ICUSTAYS.columns = ICUSTAYS.columns.str.upper()\n",
    "PATIENTS.columns = PATIENTS.columns.str.upper()\n",
    "\n",
    "ADMISSIONS = ADMISSIONS.rename(columns={'ETHNICITY':'RACE'})\n",
    "ICUSTAYS = ICUSTAYS.rename(columns={'STAY_ID':'ICUSTAY_ID'})"
   ]
  },
  {
   "cell_type": "code",
   "execution_count": 3,
   "id": "da48b0f1-8b42-4cbd-9a35-4d8d2db69b64",
   "metadata": {},
   "outputs": [],
   "source": [
    "def MIMICiv(ADMISSIONS,ICUSTAYS,PATIENTS):\n",
    "    # Select relevant columns for ADMISSIONS, ICUSTAYS, and PATIENTS\n",
    "    ADMISSIONS = ADMISSIONS[['SUBJECT_ID', 'HADM_ID', 'ADMITTIME', 'DISCHTIME', 'DEATHTIME', 'ADMISSION_TYPE', 'ADMISSION_LOCATION', 'RACE']]\n",
    "    ICUSTAYS = ICUSTAYS[['HADM_ID', 'ICUSTAY_ID', 'FIRST_CAREUNIT', 'LAST_CAREUNIT', 'INTIME', 'OUTTIME', 'LOS']]\n",
    "    PATIENTS['DOB'] = PATIENTS['ANCHOR_YEAR'] - PATIENTS['ANCHOR_AGE']\n",
    "    PATIENTS = PATIENTS[['SUBJECT_ID', 'GENDER', 'DOB', 'DOD','ANCHOR_YEAR_GROUP']]\n",
    "    \n",
    "    # Merge the datasets\n",
    "    df = pd.merge(PATIENTS, ADMISSIONS, on='SUBJECT_ID', how='left')\n",
    "    df = pd.merge(df, ICUSTAYS, on='HADM_ID', how='left')\n",
    "    print(df.shape,len(df.SUBJECT_ID.unique()),len(df.HADM_ID.unique()),len(df.ICUSTAY_ID.unique()),'\\n',df.ANCHOR_YEAR_GROUP.value_counts())\n",
    "    \n",
    "    # Convert date columns to datetime\n",
    "    date_columns = ['ADMITTIME', 'DISCHTIME', 'INTIME', 'OUTTIME','DOD']\n",
    "    df[date_columns] = df[date_columns].apply(pd.to_datetime)\n",
    "\n",
    "    # Drop rows with missing critical columns\n",
    "    df = df.dropna(subset=['SUBJECT_ID', 'HADM_ID', 'ICUSTAY_ID', 'ADMITTIME', 'INTIME', 'OUTTIME', 'DOB'])\n",
    "    df = df.sort_values(by=['SUBJECT_ID', 'ADMITTIME'])\n",
    "    print('dropna', df.shape, len(df.SUBJECT_ID.unique()),len(df.HADM_ID.unique()),len(df.ICUSTAY_ID.unique()))\n",
    "\n",
    "    # Sort the dataframe by 'SUBJECT_ID' and 'INTIME'\n",
    "    df = df.sort_values(by=['SUBJECT_ID', 'INTIME'])\n",
    "    \n",
    "    # Create 'DOB' as a complete date by assuming January 1st for each year\n",
    "    df['DOB'] = pd.to_datetime(df['DOB'].astype(str) + '-01-01')\n",
    "    \n",
    "    # Calculate 'AGE' based on 'ADMITTIME' and 'DOB', and adjust for ages above 89\n",
    "    df['AGE'] = ((df['ADMITTIME'].dt.date - df['DOB'].dt.date) / 365.242).dt.days\n",
    "    df['AGE'] = df['AGE'].apply(lambda x: 91 if x > 89 else x)\n",
    "    \n",
    "    # Filter out patients under 18\n",
    "    df = df[df['AGE'] >= 18]\n",
    "    print('AGE >= 18',df.shape, len(df.SUBJECT_ID.unique()),len(df.HADM_ID.unique()),len(df.ICUSTAY_ID.unique()))\n",
    "\n",
    "    # Keep rows with LOS greater than 1\n",
    "    df = df[df['LOS'] >= 1]\n",
    "    print('LOS greater than 1', df.shape, len(df.SUBJECT_ID.unique()),len(df.HADM_ID.unique()),len(df.ICUSTAY_ID.unique()))\n",
    "    \n",
    "    # Select specific columns for the final dataframe\n",
    "    df = df[['SUBJECT_ID', 'HADM_ID', 'ICUSTAY_ID', 'ADMITTIME', 'INTIME', 'DISCHTIME', 'OUTTIME', \n",
    "             'GENDER', 'DOB', 'DOD', 'DEATHTIME', 'ADMISSION_TYPE', 'ADMISSION_LOCATION', 'RACE', \n",
    "             'FIRST_CAREUNIT', 'LAST_CAREUNIT', 'LOS', 'AGE', 'ANCHOR_YEAR_GROUP']]\n",
    "\n",
    "    # Create a flag for the first admission for each patient\n",
    "    df['FIRST_HADM'] = df.groupby('SUBJECT_ID')['ADMITTIME'].transform(lambda x: x == x.min()).astype(int)\n",
    "    # Create a flag for the first ICU stay for each patient-HADM combination\n",
    "    df['FIRST_ICU'] = df.groupby(['SUBJECT_ID', 'HADM_ID'])['INTIME'].transform(lambda x: x == x.min()).astype(int)\n",
    "    \n",
    "    df = df[df['FIRST_ICU'] == 1]\n",
    "    print('All_HADM, FIRST_ICU', df.shape, len(df.SUBJECT_ID.unique()),len(df.HADM_ID.unique()),len(df.ICUSTAY_ID.unique()))\n",
    "\n",
    "    df['DIEINHOSPITAL'] = ((df['ADMITTIME'] <= df['DOD']) & (df['DOD'] <= df['DISCHTIME'])).astype(int)\n",
    "    df['DIEINICU'] = ((df['INTIME'] <= df['DOD']) & (df['DOD'] <= df['OUTTIME'])).astype(int)\n",
    "\n",
    "    df['NEXT_ADMIT'] = df.groupby('SUBJECT_ID')['ADMITTIME'].shift(-1)\n",
    "    df['DAYS_TO_READMIT'] = (df['NEXT_ADMIT'] - df['ADMITTIME']).dt.days\n",
    "    df['Readmission_30'] = df['DAYS_TO_READMIT'].apply(lambda x: 1 if pd.notnull(x) and x <= 30 else 0)\n",
    "    df['Readmission_60'] = df['DAYS_TO_READMIT'].apply(lambda x: 1 if pd.notnull(x) and x <= 60 else 0)\n",
    "\n",
    "    df['HOURS_FROM_ADMIT'] = (df['INTIME'] - df['ADMITTIME']).dt.total_seconds() / 3600\n",
    "    df['ICU_within_12hr_of_admit'] = df['HOURS_FROM_ADMIT'].apply(lambda x: 1 if 0 <= x <= 12 else 0)\n",
    "\n",
    "    ICUSTAYS = ICUSTAYS[ICUSTAYS.HADM_ID.isin(df.HADM_ID)]\n",
    "    ICUSTAYS['Multiple_ICUs'] = (ICUSTAYS.groupby('HADM_ID')['ICUSTAY_ID']\n",
    "                    .transform('count')\n",
    "                    .gt(1) \n",
    "                    .astype(int))  \n",
    "    ICUSTAYS = ICUSTAYS[['HADM_ID','Multiple_ICUs']].drop_duplicates(keep='first')\n",
    "    df = pd.merge(df,ICUSTAYS,on='HADM_ID',how='left')\n",
    "    \n",
    "\n",
    "    df.drop(columns=['NEXT_ADMIT', 'DAYS_TO_READMIT'], inplace=True)\n",
    "\n",
    "    df['SUBJECT_ID'] = df['SUBJECT_ID'].astype(int)\n",
    "    df['HADM_ID'] = df['HADM_ID'].astype(int)\n",
    "    df['ICUSTAY_ID'] = df['ICUSTAY_ID'].astype(int)\n",
    "\n",
    "    print('------------------------------------------------------------------------')\n",
    "    print(df.shape, 'SUBJECT_ID:',len(df.SUBJECT_ID.unique()),'HADM_ID:',len(df.HADM_ID.unique()), 'ICUSTAY_ID:',len(df.ICUSTAY_ID.unique()))\n",
    "    print('DIEINHOSPITAL:',Counter(df['DIEINHOSPITAL']))\n",
    "    print('DIEINICU:',Counter(df['DIEINICU']))\n",
    "    print('Readmission_60:',Counter(df['Readmission_60']))\n",
    "    print('ICU_within_12hr_of_admit:',Counter(df['ICU_within_12hr_of_admit']))\n",
    "    print('Multiple_ICUs:',Counter(df['Multiple_ICUs']))\n",
    "\n",
    "    return df"
   ]
  },
  {
   "cell_type": "code",
   "execution_count": 4,
   "id": "1c259dee-f402-472f-b5ab-3b9f0ecb6a00",
   "metadata": {},
   "outputs": [
    {
     "name": "stdout",
     "output_type": "stream",
     "text": [
      "(696419, 18) 364627 546029 94459 \n",
      " 2008 - 2010    265223\n",
      "2011 - 2013    145899\n",
      "2014 - 2016    121728\n",
      "2017 - 2019     99377\n",
      "2020 - 2022     64192\n",
      "Name: ANCHOR_YEAR_GROUP, dtype: int64\n",
      "dropna (94444, 18) 65355 85229 94444\n",
      "AGE >= 18 (94444, 19) 65355 85229 94444\n",
      "LOS greater than 1 (74829, 19) 54551 68546 74829\n",
      "All_HADM, FIRST_ICU (68546, 21) 54551 68546 68546\n",
      "------------------------------------------------------------------------\n",
      "(68546, 28) SUBJECT_ID: 54551 HADM_ID: 68546 ICUSTAY_ID: 68546\n",
      "DIEINHOSPITAL: Counter({0: 60729, 1: 7817})\n",
      "DIEINICU: Counter({0: 63391, 1: 5155})\n",
      "Readmission_60: Counter({0: 64117, 1: 4429})\n",
      "ICU_within_12hr_of_admit: Counter({1: 47150, 0: 21396})\n",
      "Multiple_ICUs: Counter({0: 61177, 1: 7369})\n"
     ]
    }
   ],
   "source": [
    "All_df = MIMICiv(ADMISSIONS,ICUSTAYS,PATIENTS)"
   ]
  },
  {
   "cell_type": "code",
   "execution_count": 5,
   "id": "5c2ec65a-d155-4226-a518-7bbce4e5d7a8",
   "metadata": {},
   "outputs": [
    {
     "data": {
      "text/plain": [
       "Index(['SUBJECT_ID', 'HADM_ID', 'ICUSTAY_ID', 'ADMITTIME', 'INTIME',\n",
       "       'DISCHTIME', 'OUTTIME', 'GENDER', 'DOB', 'DOD', 'DEATHTIME',\n",
       "       'ADMISSION_TYPE', 'ADMISSION_LOCATION', 'RACE', 'FIRST_CAREUNIT',\n",
       "       'LAST_CAREUNIT', 'LOS', 'AGE', 'ANCHOR_YEAR_GROUP', 'FIRST_HADM',\n",
       "       'FIRST_ICU', 'DIEINHOSPITAL', 'DIEINICU', 'Readmission_30',\n",
       "       'Readmission_60', 'HOURS_FROM_ADMIT', 'ICU_within_12hr_of_admit',\n",
       "       'Multiple_ICUs'],\n",
       "      dtype='object')"
      ]
     },
     "execution_count": 5,
     "metadata": {},
     "output_type": "execute_result"
    }
   ],
   "source": [
    "All_df.columns"
   ]
  },
  {
   "cell_type": "markdown",
   "id": "b7524f15-a38a-457a-bb84-1e0c65a8d462",
   "metadata": {},
   "source": [
    "## Key Variable"
   ]
  },
  {
   "cell_type": "code",
   "execution_count": null,
   "id": "a9e486f1-1c1c-459d-b2dd-14265def32bc",
   "metadata": {},
   "outputs": [],
   "source": [
    "keep_icu = list(set(chart.ICUSTAY_ID.unique())&set(lab.ICUSTAY_ID.unique())&set(proc.ICUSTAY_ID.unique())&set(Meds.ICUSTAY_ID.unique()))\n",
    "print(len(keep_icu))\n",
    "df = All_df[All_df.ICUSTAY_ID.isin(keep_icu)]"
   ]
  },
  {
   "cell_type": "markdown",
   "id": "5ca5d2c9-9c63-4da0-9585-21689cfd7b39",
   "metadata": {},
   "source": [
    "## Bacterial culture during ICU"
   ]
  },
  {
   "cell_type": "code",
   "execution_count": null,
   "id": "11ea7f2b-9a5d-4d66-b300-f9f64ca72fa2",
   "metadata": {},
   "outputs": [],
   "source": [
    "microbiologyevents = pd.read_csv('mimiciv/3.1/hosp/microbiologyevents.csv.gz')\n",
    "microbiologyevents.columns = microbiologyevents.columns.str.upper()\n",
    "\n",
    "microevents = microbiologyevents[microbiologyevents['HADM_ID'].isin(df['HADM_ID'])]\n",
    "print(microbiologyevents.shape,microevents.shape)\n",
    "del(microbiologyevents)"
   ]
  },
  {
   "cell_type": "code",
   "execution_count": null,
   "id": "22e7548d-76dc-4731-a353-93c898ff2771",
   "metadata": {},
   "outputs": [],
   "source": [
    "merged = pd.merge(microevents, df[['HADM_ID', 'ICUSTAY_ID', 'ADMITTIME', 'INTIME','DISCHTIME', 'OUTTIME']], on =['HADM_ID'], how='left')\n",
    "merged = merged.dropna(subset=['ICUSTAY_ID'])\n",
    "\n",
    "datetime_cols = ['ADMITTIME', 'INTIME','DISCHTIME', 'OUTTIME', 'CHARTTIME']\n",
    "merged[datetime_cols] = merged[datetime_cols].apply(pd.to_datetime)"
   ]
  },
  {
   "cell_type": "code",
   "execution_count": null,
   "id": "8d8491ca-c7a7-493d-b644-63640ad1241a",
   "metadata": {},
   "outputs": [],
   "source": [
    "SSC_icu_window_criteria = merged['CHARTTIME'].between(\n",
    "    merged['INTIME']- pd.DateOffset(1),\n",
    "    merged['OUTTIME'])\n",
    "merged = merged[SSC_icu_window_criteria]\n",
    "merged.shape"
   ]
  },
  {
   "cell_type": "code",
   "execution_count": null,
   "id": "b0030aca-bca6-4e34-abfa-e571d0b58ae9",
   "metadata": {},
   "outputs": [],
   "source": [
    "merged = merged.sort_values(['ICUSTAY_ID','INTIME','CHARTTIME','ORG_NAME']).drop_duplicates(['ICUSTAY_ID','CHARTTIME', 'TEST_NAME','ORG_NAME','AB_NAME', 'INTERPRETATION']) \n",
    "print('SUBJECT_ID:',len(merged.SUBJECT_ID.unique()),'HADM_ID:',len(merged.HADM_ID.unique()), 'ICUSTAY_ID:',len(merged.ICUSTAY_ID.unique()))"
   ]
  },
  {
   "cell_type": "code",
   "execution_count": null,
   "id": "e7eac11b-3fff-4bb0-bb29-40ecc8006585",
   "metadata": {},
   "outputs": [],
   "source": [
    "df = df[df.ICUSTAY_ID.isin(merged.ICUSTAY_ID)]"
   ]
  }
 ],
 "metadata": {
  "kernelspec": {
   "display_name": "Python 3 (ipykernel)",
   "language": "python",
   "name": "python3"
  },
  "language_info": {
   "codemirror_mode": {
    "name": "ipython",
    "version": 3
   },
   "file_extension": ".py",
   "mimetype": "text/x-python",
   "name": "python",
   "nbconvert_exporter": "python",
   "pygments_lexer": "ipython3",
   "version": "3.8.5"
  }
 },
 "nbformat": 4,
 "nbformat_minor": 5
}
